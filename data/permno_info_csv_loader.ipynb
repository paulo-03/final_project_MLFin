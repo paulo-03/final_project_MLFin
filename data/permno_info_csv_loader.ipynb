{
 "cells": [
  {
   "cell_type": "code",
   "execution_count": 1,
   "id": "initial_id",
   "metadata": {
    "collapsed": true,
    "ExecuteTime": {
     "end_time": "2024-05-03T14:57:09.787463Z",
     "start_time": "2024-05-03T14:57:08.379531Z"
    }
   },
   "outputs": [],
   "source": [
    "import wrds\n",
    "import pandas as pd"
   ]
  },
  {
   "cell_type": "code",
   "outputs": [],
   "source": [
    "# data = pd.read_csv('signed_predictors_all_wide.csv')\n",
    "# data.to_parquet('dataset.parquet')\n",
    "\n",
    "data = pd.read_parquet('dataset.parquet') # TAKES LESS TIME TO LOAD BUT STILL ~1 / 2  MIN"
   ],
   "metadata": {
    "collapsed": false,
    "ExecuteTime": {
     "end_time": "2024-05-03T14:58:40.216446Z",
     "start_time": "2024-05-03T14:57:34.354220Z"
    }
   },
   "id": "ad94918b7fc8cdae",
   "execution_count": 2
  },
  {
   "cell_type": "code",
   "outputs": [
    {
     "name": "stdout",
     "output_type": "stream",
     "text": [
      "WRDS recommends setting up a .pgpass file.\n",
      "Created .pgpass file successfully.\n",
      "You can create this file yourself at any time with the create_pgpass_file() function.\n",
      "Loading library list...\n",
      "Done\n"
     ]
    }
   ],
   "source": [
    "db = wrds.Connection()  # It will ask you your username and password"
   ],
   "metadata": {
    "collapsed": false,
    "ExecuteTime": {
     "end_time": "2024-05-03T15:02:19.776923Z",
     "start_time": "2024-05-03T15:01:50.943806Z"
    }
   },
   "id": "2c7cdb4429089327",
   "execution_count": 4
  },
  {
   "cell_type": "code",
   "outputs": [],
   "source": [
    "# get all hcomnam, hsiccd codes for each permno\n",
    "hsiccd = db.raw_sql(\"select PERMNO, hcomnam, hsiccd from crsp.dsfhdr\")\n",
    "# change hsiccd type to int\n",
    "hsiccd['hsiccd'] = hsiccd['hsiccd'].astype(int)\n",
    "# new data frame of all unique permno\n",
    "permno = pd.DataFrame(data['permno'].unique(), columns=['permno'])\n",
    "# merge the sic codes with the permno\n",
    "permno_hsiccd = permno.merge(hsiccd, on='permno')\n",
    "permno_hsiccd['industry'] = permno_hsiccd['hsiccd'].apply(lambda x: x // 10)\n",
    "permno_hsiccd['major_group'] = permno_hsiccd['hsiccd'].apply(lambda x: x // 100)\n",
    "permno_hsiccd.rename(columns={'hcomnam': 'company_name', 'hsiccd': 'sic'}, inplace=True)"
   ],
   "metadata": {
    "collapsed": false,
    "ExecuteTime": {
     "end_time": "2024-05-03T15:02:32.025384Z",
     "start_time": "2024-05-03T15:02:30.738388Z"
    }
   },
   "id": "99ad963a8b5deb26",
   "execution_count": 5
  },
  {
   "cell_type": "code",
   "outputs": [],
   "source": [
    "# Load each CSV file into a separate DataFrame\n",
    "df4 = pd.read_csv('sic_tables/divisions.csv')\n",
    "df3 = pd.read_csv('sic_tables/major-groups.csv')\n",
    "df2 = pd.read_csv('sic_tables/industry-groups.csv')\n",
    "df1 = pd.read_csv('sic_tables/sic-codes.csv')\n",
    "\n",
    "# Rename the 'Description' column in each DataFrame\n",
    "df4.rename(columns={'Description': 'Division_Description'}, inplace=True)\n",
    "df3.rename(columns={'Description': 'Major_Description'}, inplace=True)\n",
    "df2.rename(columns={'Description': 'Industry_Description'}, inplace=True)\n",
    "df1.rename(columns={'Description': 'SIC_Description'}, inplace=True)\n",
    "\n",
    "# Merge the DataFrames\n",
    "# Merge permno_hsiccd with df1 on the 'sic' column\n",
    "merged_df = permno_hsiccd.merge(df1, left_on='sic', right_on='SIC', how='left')\n",
    "merged_df = merged_df[['permno', 'company_name', 'industry', 'major_group', 'SIC_Description']]\n",
    "# Merge permno_hsiccd with df2 on the 'Industry Group' column\n",
    "merged_df = merged_df.merge(df2, left_on='industry', right_on='Industry Group', how='left')\n",
    "merged_df = merged_df[['permno', 'company_name', 'Industry_Description', 'major_group', 'SIC_Description']]\n",
    "\n",
    "# Merge permno_hsiccd with df3 and df4 on the 'Major Groups' column\n",
    "merged_df = merged_df.merge(df3, left_on='major_group', right_on='Major Group', how='left')\n",
    "merged_df = merged_df[\n",
    "    ['permno', 'company_name', 'Major_Description', 'Industry_Description', 'SIC_Description', 'Division']]\n",
    "\n",
    "merged_df = merged_df.merge(df4, on='Division', how='left')\n",
    "merged_df = merged_df[\n",
    "    ['permno', 'company_name', 'Division_Description', 'Major_Description', 'Industry_Description',\n",
    "     'SIC_Description']]"
   ],
   "metadata": {
    "collapsed": false,
    "ExecuteTime": {
     "end_time": "2024-05-03T15:02:33.527357Z",
     "start_time": "2024-05-03T15:02:33.341075Z"
    }
   },
   "id": "22928cd156267e3b",
   "execution_count": 6
  },
  {
   "cell_type": "code",
   "outputs": [
    {
     "data": {
      "text/plain": "   permno                   company_name  \\\n0   10000      OPTIMUM MANUFACTURING INC   \n1   10001                GAS NATURAL INC   \n2   10002  BANCTRUST FINANCIAL GROUP INC   \n3   10003     GREAT COUNTRY BK ASONIA CT   \n4   10004            CLOSE OUTS PLUS INC   \n\n                                Division_Description  \\\n0                                      Manufacturing   \n1  Transportation, Communications, Electric, Gas,...   \n2                Finance, Insurance, And Real Estate   \n3                Finance, Insurance, And Real Estate   \n4                                       Retail Trade   \n\n                        Major_Description  \\\n0  Miscellaneous Manufacturing Industries   \n1   Electric, Gas, And Sanitary Services    \n2                 Depository Institutions   \n3                 Depository Institutions   \n4              General Merchandise Stores   \n\n                     Industry_Description  \\\n0  Miscellaneous Manufacturing Industries   \n1         Gas Production And Distribution   \n2                        Commercial Banks   \n3                        Commercial Banks   \n4                          Variety Stores   \n\n                                     SIC_Description  \n0                                                NaN  \n1  Mixed, Manufactured, or Liquefied Petroleum Ga...  \n2                                                NaN  \n3                                                NaN  \n4                                                NaN  ",
      "text/html": "<div>\n<style scoped>\n    .dataframe tbody tr th:only-of-type {\n        vertical-align: middle;\n    }\n\n    .dataframe tbody tr th {\n        vertical-align: top;\n    }\n\n    .dataframe thead th {\n        text-align: right;\n    }\n</style>\n<table border=\"1\" class=\"dataframe\">\n  <thead>\n    <tr style=\"text-align: right;\">\n      <th></th>\n      <th>permno</th>\n      <th>company_name</th>\n      <th>Division_Description</th>\n      <th>Major_Description</th>\n      <th>Industry_Description</th>\n      <th>SIC_Description</th>\n    </tr>\n  </thead>\n  <tbody>\n    <tr>\n      <th>0</th>\n      <td>10000</td>\n      <td>OPTIMUM MANUFACTURING INC</td>\n      <td>Manufacturing</td>\n      <td>Miscellaneous Manufacturing Industries</td>\n      <td>Miscellaneous Manufacturing Industries</td>\n      <td>NaN</td>\n    </tr>\n    <tr>\n      <th>1</th>\n      <td>10001</td>\n      <td>GAS NATURAL INC</td>\n      <td>Transportation, Communications, Electric, Gas,...</td>\n      <td>Electric, Gas, And Sanitary Services</td>\n      <td>Gas Production And Distribution</td>\n      <td>Mixed, Manufactured, or Liquefied Petroleum Ga...</td>\n    </tr>\n    <tr>\n      <th>2</th>\n      <td>10002</td>\n      <td>BANCTRUST FINANCIAL GROUP INC</td>\n      <td>Finance, Insurance, And Real Estate</td>\n      <td>Depository Institutions</td>\n      <td>Commercial Banks</td>\n      <td>NaN</td>\n    </tr>\n    <tr>\n      <th>3</th>\n      <td>10003</td>\n      <td>GREAT COUNTRY BK ASONIA CT</td>\n      <td>Finance, Insurance, And Real Estate</td>\n      <td>Depository Institutions</td>\n      <td>Commercial Banks</td>\n      <td>NaN</td>\n    </tr>\n    <tr>\n      <th>4</th>\n      <td>10004</td>\n      <td>CLOSE OUTS PLUS INC</td>\n      <td>Retail Trade</td>\n      <td>General Merchandise Stores</td>\n      <td>Variety Stores</td>\n      <td>NaN</td>\n    </tr>\n  </tbody>\n</table>\n</div>"
     },
     "execution_count": 7,
     "metadata": {},
     "output_type": "execute_result"
    }
   ],
   "source": [
    "merged_df.head()"
   ],
   "metadata": {
    "collapsed": false,
    "ExecuteTime": {
     "end_time": "2024-05-03T15:02:35.199324Z",
     "start_time": "2024-05-03T15:02:35.141715Z"
    }
   },
   "id": "e5ce47db798d3935",
   "execution_count": 7
  },
  {
   "cell_type": "code",
   "outputs": [
    {
     "data": {
      "text/plain": "permno                      0\ncompany_name                0\nDivision_Description      335\nMajor_Description         335\nIndustry_Description     1224\nSIC_Description         12048\ndtype: int64"
     },
     "execution_count": 8,
     "metadata": {},
     "output_type": "execute_result"
    }
   ],
   "source": [
    "merged_df.isna().sum()"
   ],
   "metadata": {
    "collapsed": false,
    "ExecuteTime": {
     "end_time": "2024-05-03T15:02:41.622719Z",
     "start_time": "2024-05-03T15:02:41.599296Z"
    }
   },
   "id": "ee0cd45ef6f2139a",
   "execution_count": 8
  },
  {
   "cell_type": "code",
   "outputs": [],
   "source": [
    "merged_df.to_csv('permno_full_info1.csv', index=False)"
   ],
   "metadata": {
    "collapsed": false
   },
   "id": "d8d3cb5072374b41"
  }
 ],
 "metadata": {
  "kernelspec": {
   "display_name": "Python 3",
   "language": "python",
   "name": "python3"
  },
  "language_info": {
   "codemirror_mode": {
    "name": "ipython",
    "version": 2
   },
   "file_extension": ".py",
   "mimetype": "text/x-python",
   "name": "python",
   "nbconvert_exporter": "python",
   "pygments_lexer": "ipython2",
   "version": "2.7.6"
  }
 },
 "nbformat": 4,
 "nbformat_minor": 5
}
