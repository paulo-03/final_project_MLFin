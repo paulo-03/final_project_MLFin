{
 "cells": [
  {
   "cell_type": "markdown",
   "source": [
    "# Machine Learning in Finance - Models Training\n",
    "\n",
    "This notebook will focus on *how well we can forecast closing stocks using machine learning methods*.\n",
    "\n",
    "*Authors:* [Mina Attia](https://people.epfl.ch/mina.attia), [Arnaud Felber](https://people.epfl.ch/arnaud.felber), ??? ??? & [Paulo Ribeiro](https://people.epfl.ch/paulo.ribeirodecarvalho)"
   ],
   "metadata": {
    "collapsed": false
   }
  },
  {
   "cell_type": "markdown",
   "source": [
    "## Import\n",
    "\n",
    "Import all python scripts and/or libraries needed."
   ],
   "metadata": {
    "collapsed": false
   }
  },
  {
   "cell_type": "code",
   "execution_count": null,
   "outputs": [],
   "source": [],
   "metadata": {
    "collapsed": false,
    "ExecuteTime": {
     "end_time": "2024-03-27T14:16:59.923903Z",
     "start_time": "2024-03-27T14:16:59.921521Z"
    }
   }
  },
  {
   "cell_type": "markdown",
   "source": [
    "## Data\n",
    "\n",
    "Tell where we use the data and describe it quickly. Better description will be given in the README.md file."
   ],
   "metadata": {
    "collapsed": false
   }
  },
  {
   "cell_type": "code",
   "execution_count": null,
   "outputs": [],
   "source": [],
   "metadata": {
    "collapsed": false,
    "ExecuteTime": {
     "end_time": "2024-03-27T14:16:59.941918Z",
     "start_time": "2024-03-27T14:16:59.925516Z"
    }
   }
  },
  {
   "cell_type": "markdown",
   "source": [
    "## Methods\n",
    "\n",
    "Describe which method we will train and test."
   ],
   "metadata": {
    "collapsed": false
   }
  },
  {
   "cell_type": "markdown",
   "source": [
    "### Random Model"
   ],
   "metadata": {
    "collapsed": false
   }
  },
  {
   "cell_type": "code",
   "execution_count": null,
   "outputs": [],
   "source": [],
   "metadata": {
    "collapsed": false,
    "ExecuteTime": {
     "end_time": "2024-03-27T14:16:59.942218Z",
     "start_time": "2024-03-27T14:16:59.929703Z"
    }
   }
  },
  {
   "cell_type": "markdown",
   "source": [
    "### OLS"
   ],
   "metadata": {
    "collapsed": false
   }
  },
  {
   "cell_type": "code",
   "execution_count": null,
   "outputs": [],
   "source": [],
   "metadata": {
    "collapsed": false,
    "ExecuteTime": {
     "end_time": "2024-03-27T14:16:59.942441Z",
     "start_time": "2024-03-27T14:16:59.934123Z"
    }
   }
  },
  {
   "cell_type": "markdown",
   "source": [
    "### Neural Network"
   ],
   "metadata": {
    "collapsed": false
   }
  },
  {
   "cell_type": "code",
   "execution_count": null,
   "outputs": [],
   "source": [],
   "metadata": {
    "collapsed": false,
    "ExecuteTime": {
     "end_time": "2024-03-27T14:16:59.942735Z",
     "start_time": "2024-03-27T14:16:59.939916Z"
    }
   }
  },
  {
   "cell_type": "markdown",
   "source": [
    "### Transformers"
   ],
   "metadata": {
    "collapsed": false
   }
  },
  {
   "cell_type": "code",
   "execution_count": null,
   "outputs": [],
   "source": [],
   "metadata": {
    "collapsed": false,
    "ExecuteTime": {
     "end_time": "2024-03-27T14:16:59.949530Z",
     "start_time": "2024-03-27T14:16:59.943842Z"
    }
   }
  },
  {
   "cell_type": "markdown",
   "source": [
    "## Results\n",
    "\n",
    "We will test our models and compare them to see which one outperform the others."
   ],
   "metadata": {
    "collapsed": false
   }
  },
  {
   "cell_type": "code",
   "execution_count": null,
   "outputs": [],
   "source": [],
   "metadata": {
    "collapsed": false,
    "ExecuteTime": {
     "end_time": "2024-03-27T14:16:59.952811Z",
     "start_time": "2024-03-27T14:16:59.949363Z"
    }
   }
  }
 ],
 "metadata": {
  "kernelspec": {
   "display_name": "Python 3",
   "language": "python",
   "name": "python3"
  },
  "language_info": {
   "codemirror_mode": {
    "name": "ipython",
    "version": 2
   },
   "file_extension": ".py",
   "mimetype": "text/x-python",
   "name": "python",
   "nbconvert_exporter": "python",
   "pygments_lexer": "ipython2",
   "version": "2.7.6"
  }
 },
 "nbformat": 4,
 "nbformat_minor": 0
}
