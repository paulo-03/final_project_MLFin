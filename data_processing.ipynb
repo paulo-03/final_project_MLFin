{
 "cells": [
  {
   "metadata": {},
   "cell_type": "markdown",
   "source": [
    "# Machine Learning in Finance - Data Processing\n",
    "\n",
    "This notebook will focus on processing the data with ML techniques (RandomForest), before applying ML techniques to find the top characteristics for price prediction.\n",
    "\n",
    "***Note: This part used a package `missingpy` that requires old versions of scipy. To avoid unnecessary conflict, please uncomment the first cell to create a conda environment just for this pre-processing task. Do not forget to set the created environment as you IDE interpreter.***\n",
    "\n",
    "*Authors:* [Mina Attia](https://people.epfl.ch/mina.attia), [Arnaud Felber](https://people.epfl.ch/arnaud.felber), [Milos Novakovic](https://people.epfl.ch/milos.novakovic), [Rami Atassi](https://people.epfl.ch/rami.atassi) & [Paulo Ribeiro](https://people.epfl.ch/paulo.ribeirodecarvalho)"
   ],
   "id": "5588cd20f4297393"
  },
  {
   "cell_type": "code",
   "execution_count": 1,
   "outputs": [],
   "source": [
    "#!conda create --name impute python=3.8\n",
    "#!conda activate impute\n",
    "#!/opt/anaconda3/envs/impute/bin/pip install missingpy\n",
    "#!/opt/anaconda3/envs/impute/bin/pip install scikit_learn\n",
    "#!/opt/anaconda3/envs/impute/bin/pip install pandas"
   ],
   "metadata": {
    "collapsed": false,
    "ExecuteTime": {
     "end_time": "2024-05-07T15:59:44.922266Z",
     "start_time": "2024-05-07T15:59:44.906131Z"
    }
   }
  },
  {
   "cell_type": "markdown",
   "source": [
    "## Import"
   ],
   "metadata": {
    "collapsed": false
   }
  },
  {
   "metadata": {
    "ExecuteTime": {
     "end_time": "2024-05-07T15:59:46.024435Z",
     "start_time": "2024-05-07T15:59:44.923185Z"
    }
   },
   "cell_type": "code",
   "outputs": [],
   "execution_count": 2,
   "source": [
    "import pandas as pd\n",
    "import numpy as np\n",
    "from missingpy.missforest import MissForest\n",
    "from helpers import load_data_df, select_time_window\n",
    "\n",
    "%load_ext autoreload\n",
    "%autoreload 2"
   ],
   "id": "824a0970c6e39a9f"
  },
  {
   "cell_type": "markdown",
   "source": [
    "## Data\n",
    "\n",
    "Load the dataset."
   ],
   "metadata": {
    "collapsed": false
   }
  },
  {
   "cell_type": "code",
   "execution_count": 3,
   "outputs": [],
   "source": [
    "#file_path = 'data/signed_predictors_all_wide.csv'\n",
    "\n",
    "#data = load_data_df(file_path=file_path)"
   ],
   "metadata": {
    "collapsed": false,
    "ExecuteTime": {
     "end_time": "2024-05-07T15:59:46.050909Z",
     "start_time": "2024-05-07T15:59:46.019502Z"
    }
   }
  },
  {
   "cell_type": "markdown",
   "source": [
    "## Impute\n",
    "\n",
    "Retrieve the missing values using Machine Learning techniques. To do so, we use the API from `missingpy` and call the MissForest algorithm. MissForest imputes missing values using Random Forests in an iterative fashion."
   ],
   "metadata": {
    "collapsed": false,
    "ExecuteTime": {
     "end_time": "2024-05-07T15:49:42.109828Z",
     "start_time": "2024-05-07T15:49:41.165028Z"
    }
   },
   "outputs": [
    {
     "name": "stdout",
     "output_type": "stream",
     "text": [
      "Iteration: 0\n",
      "Iteration: 1\n",
      "Iteration: 2\n"
     ]
    },
    {
     "data": {
      "text/plain": "array([[1.  , 2.  , 3.88],\n       [3.  , 4.  , 3.  ],\n       [2.67, 6.  , 5.  ],\n       [8.  , 8.  , 7.  ]])"
     },
     "execution_count": 5,
     "metadata": {},
     "output_type": "execute_result"
    }
   ],
   "execution_count": 5
  },
  {
   "cell_type": "code",
   "execution_count": 4,
   "outputs": [
    {
     "name": "stdout",
     "output_type": "stream",
     "text": [
      "     0  1    2\n",
      "0  1.0  2  NaN\n",
      "1  3.0  4  3.0\n",
      "2  NaN  6  5.0\n",
      "3  8.0  8  7.0\n"
     ]
    }
   ],
   "source": [
    "nan = np.nan\n",
    "data = pd.DataFrame([[1, 2, nan], [3, 4, 3], [nan, 6, 5], [8, 8, 7]])\n",
    "\n",
    "print(data)"
   ],
   "metadata": {
    "collapsed": false,
    "ExecuteTime": {
     "end_time": "2024-05-07T15:59:46.093823Z",
     "start_time": "2024-05-07T15:59:46.053890Z"
    }
   }
  },
  {
   "cell_type": "code",
   "execution_count": 5,
   "outputs": [
    {
     "name": "stdout",
     "output_type": "stream",
     "text": [
      "Iteration: 0\n",
      "Iteration: 1\n",
      "Iteration: 2\n"
     ]
    },
    {
     "data": {
      "text/plain": "array([[1.  , 2.  , 3.88],\n       [3.  , 4.  , 3.  ],\n       [2.67, 6.  , 5.  ],\n       [8.  , 8.  , 7.  ]])"
     },
     "execution_count": 5,
     "metadata": {},
     "output_type": "execute_result"
    }
   ],
   "source": [
    "imputer = MissForest(missing_values=np.nan,\n",
    "                     criterion=('squared_error', 'gini'),\n",
    "                     max_features='sqrt',\n",
    "                     random_state=1337)\n",
    "data_imputed = imputer.fit_transform(data)\n",
    "data_imputed"
   ],
   "metadata": {
    "collapsed": false,
    "ExecuteTime": {
     "end_time": "2024-05-07T15:59:47.138907Z",
     "start_time": "2024-05-07T15:59:46.093536Z"
    }
   }
  }
 ],
 "metadata": {
  "kernelspec": {
   "display_name": "Python 3",
   "language": "python",
   "name": "python3"
  },
  "language_info": {
   "codemirror_mode": {
    "name": "ipython",
    "version": 2
   },
   "file_extension": ".py",
   "mimetype": "text/x-python",
   "name": "python",
   "nbconvert_exporter": "python",
   "pygments_lexer": "ipython2",
   "version": "2.7.6"
  }
 },
 "nbformat": 4,
 "nbformat_minor": 5
}
