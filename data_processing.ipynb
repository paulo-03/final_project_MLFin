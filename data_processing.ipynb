{
 "cells": [
  {
   "metadata": {},
   "cell_type": "markdown",
   "source": [
    "# Machine Learning in Finance - Data Processing\n",
    "\n",
    "This notebook will focus on processing the data with ML techniques (RandomForest), before applying ML techniques to find the top characteristics for price prediction.\n",
    "\n",
    "***Note: This part used a package `missingpy` that requires old versions of scipy. To avoid unnecessary conflict, please uncomment the first cell to create a conda environment just for this pre-processing task. Do not forget to set the created environment as you IDE interpreter. Finally, `missingpy` has a second model which is deprecated and cause issues while importing. Then please follow the step of the video [here](https://www.youtube.com/watch?v=_886JGYt1Ts).***\n",
    "\n",
    "*Authors:* [Mina Attia](https://people.epfl.ch/mina.attia), [Arnaud Felber](https://people.epfl.ch/arnaud.felber), [Milos Novakovic](https://people.epfl.ch/milos.novakovic), [Rami Atassi](https://people.epfl.ch/rami.atassi) & [Paulo Ribeiro](https://people.epfl.ch/paulo.ribeirodecarvalho)"
   ],
   "id": "5588cd20f4297393"
  },
  {
   "cell_type": "code",
   "source": [
    "#!conda create --name impute python=3.8\n",
    "#!conda activate impute\n",
    "#!/opt/anaconda3/envs/impute/bin/pip install missingpy\n",
    "#!/opt/anaconda3/envs/impute/bin/pip install scikit_learn\n",
    "#!/opt/anaconda3/envs/impute/bin/pip install pandas"
   ],
   "metadata": {
    "collapsed": false,
    "ExecuteTime": {
     "end_time": "2024-05-10T11:15:26.110860Z",
     "start_time": "2024-05-10T11:15:26.108981Z"
    }
   },
   "id": "57ba8eed7a3a1b8",
   "outputs": [],
   "execution_count": 1
  },
  {
   "cell_type": "markdown",
   "source": [
    "## Import"
   ],
   "metadata": {
    "collapsed": false
   },
   "id": "9704e4adf07bf1c"
  },
  {
   "metadata": {
    "ExecuteTime": {
     "end_time": "2024-05-10T11:15:26.537108Z",
     "start_time": "2024-05-10T11:15:26.111567Z"
    }
   },
   "cell_type": "code",
   "source": [
    "import numpy as np\n",
    "import pandas as pd\n",
    "\n",
    "from tqdm.notebook import tqdm\n",
    "from helpers import load_data_df\n",
    "from data_processing import impute_data\n",
    "\n",
    "import warnings\n",
    "\n",
    "# Filter out UserWarnings\n",
    "warnings.filterwarnings(\"ignore\", category=UserWarning)\n",
    "\n",
    "%load_ext autoreload\n",
    "%autoreload 2"
   ],
   "id": "824a0970c6e39a9f",
   "outputs": [],
   "execution_count": 2
  },
  {
   "cell_type": "markdown",
   "source": [
    "## Data\n",
    "\n",
    "Load the dataset."
   ],
   "metadata": {
    "collapsed": false
   },
   "id": "c1ee5a5b3bdf118e"
  },
  {
   "cell_type": "code",
   "source": [
    "file_path = 'data/data_reduce.csv'\n",
    "\n",
    "data = load_data_df(file_path=file_path)"
   ],
   "metadata": {
    "collapsed": false,
    "ExecuteTime": {
     "end_time": "2024-05-10T11:15:41.017962Z",
     "start_time": "2024-05-10T11:15:26.537996Z"
    }
   },
   "id": "3a9f594a2762397f",
   "outputs": [],
   "execution_count": 3
  },
  {
   "cell_type": "markdown",
   "source": [
    "## Impute\n",
    "\n",
    "Retrieve the missing values using Machine Learning techniques. To do so, we use the API from `missingpy` and call the MissForest algorithm. MissForest imputes missing values using Random Forests in an iterative fashion."
   ],
   "metadata": {
    "collapsed": false,
    "ExecuteTime": {
     "end_time": "2024-05-07T15:49:42.109828Z",
     "start_time": "2024-05-07T15:49:41.165028Z"
    }
   },
   "id": "b4c4fd00f1fbfba7"
  },
  {
   "cell_type": "code",
   "source": [
    "chunks = 10\n",
    "data_chunks = np.array_split(data, chunks)\n",
    "\n",
    "imputed_data_list = []\n",
    "for data_chunk in tqdm(data_chunks[1:], total=chunks):\n",
    "    imputed_data = impute_data(data=data_chunk.reset_index(drop=True),\n",
    "                               seed=42)\n",
    "    imputed_data_list.append(imputed_data)\n",
    "    \n",
    "imputed_data_full = pd.concat(imputed_data_list, ignore_index=True).drop(columns='Unnamed: 0')\n",
    "    \n",
    "# Check if there are any NaN values in the DataFrame\n",
    "if imputed_data_full.isna().any().any():\n",
    "    print(\"There still has NaN values in the DataFrame.\")\n",
    "else:\n",
    "    print(\"There are no NaN values in the DataFrame.\")"
   ],
   "metadata": {
    "collapsed": false,
    "ExecuteTime": {
     "end_time": "2024-05-10T13:29:38.215338Z",
     "start_time": "2024-05-10T11:15:41.018635Z"
    }
   },
   "id": "55d2a0f1d5d2e6f6",
   "outputs": [
    {
     "data": {
      "text/plain": [
       "  0%|          | 0/9 [00:00<?, ?it/s]"
      ],
      "application/vnd.jupyter.widget-view+json": {
       "version_major": 2,
       "version_minor": 0,
       "model_id": "2a9ce549b8864704b012aa59dff50d61"
      }
     },
     "metadata": {},
     "output_type": "display_data"
    },
    {
     "name": "stdout",
     "output_type": "stream",
     "text": [
      "Iteration: 0\n",
      "Iteration: 1\n",
      "Iteration: 0\n",
      "Iteration: 1\n",
      "Iteration: 0\n",
      "Iteration: 1\n",
      "Iteration: 0\n",
      "Iteration: 1\n",
      "Iteration: 2\n",
      "Iteration: 3\n",
      "Iteration: 4\n",
      "Iteration: 5\n",
      "Iteration: 0\n",
      "Iteration: 1\n",
      "Iteration: 0\n",
      "Iteration: 1\n",
      "Iteration: 2\n",
      "Iteration: 0\n",
      "Iteration: 1\n",
      "Iteration: 2\n",
      "Iteration: 3\n",
      "Iteration: 0\n",
      "Iteration: 1\n",
      "Iteration: 2\n",
      "Iteration: 3\n",
      "Iteration: 4\n",
      "Iteration: 0\n",
      "Iteration: 1\n"
     ]
    }
   ],
   "execution_count": 4
  },
  {
   "cell_type": "markdown",
   "source": [
    "## Store Impute Data"
   ],
   "metadata": {
    "collapsed": false
   },
   "id": "a9b34806877ec76d"
  },
  {
   "cell_type": "code",
   "source": "imputed_data_full.to_csv('data/imputed/data_imputed.csv', index=False)",
   "metadata": {
    "collapsed": false,
    "ExecuteTime": {
     "end_time": "2024-05-10T15:39:45.153866Z",
     "start_time": "2024-05-10T15:39:20.672359Z"
    }
   },
   "id": "26b18813e970310e",
   "outputs": [],
   "execution_count": 18
  }
 ],
 "metadata": {
  "kernelspec": {
   "display_name": "Python 3",
   "language": "python",
   "name": "python3"
  },
  "language_info": {
   "codemirror_mode": {
    "name": "ipython",
    "version": 2
   },
   "file_extension": ".py",
   "mimetype": "text/x-python",
   "name": "python",
   "nbconvert_exporter": "python",
   "pygments_lexer": "ipython2",
   "version": "2.7.6"
  }
 },
 "nbformat": 4,
 "nbformat_minor": 5
}
